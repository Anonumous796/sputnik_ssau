{
  "nbformat": 4,
  "nbformat_minor": 0,
  "metadata": {
    "colab": {
      "name": "Sputnik",
      "provenance": [],
      "collapsed_sections": []
    },
    "kernelspec": {
      "name": "python3",
      "display_name": "Python 3"
    },
    "accelerator": "GPU",
    "widgets": {
      "application/vnd.jupyter.widget-state+json": {
        "4bdefe25e2ff4511bfcb70c783ba0949": {
          "model_module": "@jupyter-widgets/controls",
          "model_name": "HBoxModel",
          "state": {
            "_view_name": "HBoxView",
            "_dom_classes": [],
            "_model_name": "HBoxModel",
            "_view_module": "@jupyter-widgets/controls",
            "_model_module_version": "1.5.0",
            "_view_count": null,
            "_view_module_version": "1.5.0",
            "box_style": "",
            "layout": "IPY_MODEL_0ca43b7aacfe4688bd7c9f152b3a87f3",
            "_model_module": "@jupyter-widgets/controls",
            "children": [
              "IPY_MODEL_25bba322bf2446978d25e0b5103af1e1",
              "IPY_MODEL_06ae485c51a049eab623226208d8958e"
            ]
          }
        },
        "0ca43b7aacfe4688bd7c9f152b3a87f3": {
          "model_module": "@jupyter-widgets/base",
          "model_name": "LayoutModel",
          "state": {
            "_view_name": "LayoutView",
            "grid_template_rows": null,
            "right": null,
            "justify_content": null,
            "_view_module": "@jupyter-widgets/base",
            "overflow": null,
            "_model_module_version": "1.2.0",
            "_view_count": null,
            "flex_flow": null,
            "width": null,
            "min_width": null,
            "border": null,
            "align_items": null,
            "bottom": null,
            "_model_module": "@jupyter-widgets/base",
            "top": null,
            "grid_column": null,
            "overflow_y": null,
            "overflow_x": null,
            "grid_auto_flow": null,
            "grid_area": null,
            "grid_template_columns": null,
            "flex": null,
            "_model_name": "LayoutModel",
            "justify_items": null,
            "grid_row": null,
            "max_height": null,
            "align_content": null,
            "visibility": null,
            "align_self": null,
            "height": null,
            "min_height": null,
            "padding": null,
            "grid_auto_rows": null,
            "grid_gap": null,
            "max_width": null,
            "order": null,
            "_view_module_version": "1.2.0",
            "grid_template_areas": null,
            "object_position": null,
            "object_fit": null,
            "grid_auto_columns": null,
            "margin": null,
            "display": null,
            "left": null
          }
        },
        "25bba322bf2446978d25e0b5103af1e1": {
          "model_module": "@jupyter-widgets/controls",
          "model_name": "FloatProgressModel",
          "state": {
            "_view_name": "ProgressView",
            "style": "IPY_MODEL_a98dc9787c2b4e5db7ee1e91af61e3f1",
            "_dom_classes": [],
            "description": "100%",
            "_model_name": "FloatProgressModel",
            "bar_style": "success",
            "max": 500,
            "_view_module": "@jupyter-widgets/controls",
            "_model_module_version": "1.5.0",
            "value": 500,
            "_view_count": null,
            "_view_module_version": "1.5.0",
            "orientation": "horizontal",
            "min": 0,
            "description_tooltip": null,
            "_model_module": "@jupyter-widgets/controls",
            "layout": "IPY_MODEL_f6e4971a3f6c46bba9498286e7473efb"
          }
        },
        "06ae485c51a049eab623226208d8958e": {
          "model_module": "@jupyter-widgets/controls",
          "model_name": "HTMLModel",
          "state": {
            "_view_name": "HTMLView",
            "style": "IPY_MODEL_5977dfe9f6ba499093109675be916e57",
            "_dom_classes": [],
            "description": "",
            "_model_name": "HTMLModel",
            "placeholder": "​",
            "_view_module": "@jupyter-widgets/controls",
            "_model_module_version": "1.5.0",
            "value": " 500/500 [00:46&lt;00:00, 10.67it/s]",
            "_view_count": null,
            "_view_module_version": "1.5.0",
            "description_tooltip": null,
            "_model_module": "@jupyter-widgets/controls",
            "layout": "IPY_MODEL_c7a34866d69a4d4e9530dd7f7f949b59"
          }
        },
        "a98dc9787c2b4e5db7ee1e91af61e3f1": {
          "model_module": "@jupyter-widgets/controls",
          "model_name": "ProgressStyleModel",
          "state": {
            "_view_name": "StyleView",
            "_model_name": "ProgressStyleModel",
            "description_width": "initial",
            "_view_module": "@jupyter-widgets/base",
            "_model_module_version": "1.5.0",
            "_view_count": null,
            "_view_module_version": "1.2.0",
            "bar_color": null,
            "_model_module": "@jupyter-widgets/controls"
          }
        },
        "f6e4971a3f6c46bba9498286e7473efb": {
          "model_module": "@jupyter-widgets/base",
          "model_name": "LayoutModel",
          "state": {
            "_view_name": "LayoutView",
            "grid_template_rows": null,
            "right": null,
            "justify_content": null,
            "_view_module": "@jupyter-widgets/base",
            "overflow": null,
            "_model_module_version": "1.2.0",
            "_view_count": null,
            "flex_flow": null,
            "width": null,
            "min_width": null,
            "border": null,
            "align_items": null,
            "bottom": null,
            "_model_module": "@jupyter-widgets/base",
            "top": null,
            "grid_column": null,
            "overflow_y": null,
            "overflow_x": null,
            "grid_auto_flow": null,
            "grid_area": null,
            "grid_template_columns": null,
            "flex": null,
            "_model_name": "LayoutModel",
            "justify_items": null,
            "grid_row": null,
            "max_height": null,
            "align_content": null,
            "visibility": null,
            "align_self": null,
            "height": null,
            "min_height": null,
            "padding": null,
            "grid_auto_rows": null,
            "grid_gap": null,
            "max_width": null,
            "order": null,
            "_view_module_version": "1.2.0",
            "grid_template_areas": null,
            "object_position": null,
            "object_fit": null,
            "grid_auto_columns": null,
            "margin": null,
            "display": null,
            "left": null
          }
        },
        "5977dfe9f6ba499093109675be916e57": {
          "model_module": "@jupyter-widgets/controls",
          "model_name": "DescriptionStyleModel",
          "state": {
            "_view_name": "StyleView",
            "_model_name": "DescriptionStyleModel",
            "description_width": "",
            "_view_module": "@jupyter-widgets/base",
            "_model_module_version": "1.5.0",
            "_view_count": null,
            "_view_module_version": "1.2.0",
            "_model_module": "@jupyter-widgets/controls"
          }
        },
        "c7a34866d69a4d4e9530dd7f7f949b59": {
          "model_module": "@jupyter-widgets/base",
          "model_name": "LayoutModel",
          "state": {
            "_view_name": "LayoutView",
            "grid_template_rows": null,
            "right": null,
            "justify_content": null,
            "_view_module": "@jupyter-widgets/base",
            "overflow": null,
            "_model_module_version": "1.2.0",
            "_view_count": null,
            "flex_flow": null,
            "width": null,
            "min_width": null,
            "border": null,
            "align_items": null,
            "bottom": null,
            "_model_module": "@jupyter-widgets/base",
            "top": null,
            "grid_column": null,
            "overflow_y": null,
            "overflow_x": null,
            "grid_auto_flow": null,
            "grid_area": null,
            "grid_template_columns": null,
            "flex": null,
            "_model_name": "LayoutModel",
            "justify_items": null,
            "grid_row": null,
            "max_height": null,
            "align_content": null,
            "visibility": null,
            "align_self": null,
            "height": null,
            "min_height": null,
            "padding": null,
            "grid_auto_rows": null,
            "grid_gap": null,
            "max_width": null,
            "order": null,
            "_view_module_version": "1.2.0",
            "grid_template_areas": null,
            "object_position": null,
            "object_fit": null,
            "grid_auto_columns": null,
            "margin": null,
            "display": null,
            "left": null
          }
        },
        "ebe57e00f6184e5b8ada05906c914616": {
          "model_module": "@jupyter-widgets/controls",
          "model_name": "HBoxModel",
          "state": {
            "_view_name": "HBoxView",
            "_dom_classes": [],
            "_model_name": "HBoxModel",
            "_view_module": "@jupyter-widgets/controls",
            "_model_module_version": "1.5.0",
            "_view_count": null,
            "_view_module_version": "1.5.0",
            "box_style": "",
            "layout": "IPY_MODEL_1d7eba8cf9614ce398bf89be0e21bf4c",
            "_model_module": "@jupyter-widgets/controls",
            "children": [
              "IPY_MODEL_f216eea3a2984dc6b3de6a967bc62709",
              "IPY_MODEL_d67c4119e5194e4b8a988080ce9aa2ac"
            ]
          }
        },
        "1d7eba8cf9614ce398bf89be0e21bf4c": {
          "model_module": "@jupyter-widgets/base",
          "model_name": "LayoutModel",
          "state": {
            "_view_name": "LayoutView",
            "grid_template_rows": null,
            "right": null,
            "justify_content": null,
            "_view_module": "@jupyter-widgets/base",
            "overflow": null,
            "_model_module_version": "1.2.0",
            "_view_count": null,
            "flex_flow": null,
            "width": null,
            "min_width": null,
            "border": null,
            "align_items": null,
            "bottom": null,
            "_model_module": "@jupyter-widgets/base",
            "top": null,
            "grid_column": null,
            "overflow_y": null,
            "overflow_x": null,
            "grid_auto_flow": null,
            "grid_area": null,
            "grid_template_columns": null,
            "flex": null,
            "_model_name": "LayoutModel",
            "justify_items": null,
            "grid_row": null,
            "max_height": null,
            "align_content": null,
            "visibility": null,
            "align_self": null,
            "height": null,
            "min_height": null,
            "padding": null,
            "grid_auto_rows": null,
            "grid_gap": null,
            "max_width": null,
            "order": null,
            "_view_module_version": "1.2.0",
            "grid_template_areas": null,
            "object_position": null,
            "object_fit": null,
            "grid_auto_columns": null,
            "margin": null,
            "display": null,
            "left": null
          }
        },
        "f216eea3a2984dc6b3de6a967bc62709": {
          "model_module": "@jupyter-widgets/controls",
          "model_name": "FloatProgressModel",
          "state": {
            "_view_name": "ProgressView",
            "style": "IPY_MODEL_dff5f761e6d0482c918f8014648e9cd0",
            "_dom_classes": [],
            "description": "100%",
            "_model_name": "FloatProgressModel",
            "bar_style": "success",
            "max": 100,
            "_view_module": "@jupyter-widgets/controls",
            "_model_module_version": "1.5.0",
            "value": 100,
            "_view_count": null,
            "_view_module_version": "1.5.0",
            "orientation": "horizontal",
            "min": 0,
            "description_tooltip": null,
            "_model_module": "@jupyter-widgets/controls",
            "layout": "IPY_MODEL_fd759b19cdb045b8ae39fd9e5cbc2a37"
          }
        },
        "d67c4119e5194e4b8a988080ce9aa2ac": {
          "model_module": "@jupyter-widgets/controls",
          "model_name": "HTMLModel",
          "state": {
            "_view_name": "HTMLView",
            "style": "IPY_MODEL_11631d25457e4f02be044f15b56a4c58",
            "_dom_classes": [],
            "description": "",
            "_model_name": "HTMLModel",
            "placeholder": "​",
            "_view_module": "@jupyter-widgets/controls",
            "_model_module_version": "1.5.0",
            "value": " 100/100 [00:08&lt;00:00, 11.84it/s]",
            "_view_count": null,
            "_view_module_version": "1.5.0",
            "description_tooltip": null,
            "_model_module": "@jupyter-widgets/controls",
            "layout": "IPY_MODEL_d960658b4f42452c91c208440b536bfc"
          }
        },
        "dff5f761e6d0482c918f8014648e9cd0": {
          "model_module": "@jupyter-widgets/controls",
          "model_name": "ProgressStyleModel",
          "state": {
            "_view_name": "StyleView",
            "_model_name": "ProgressStyleModel",
            "description_width": "initial",
            "_view_module": "@jupyter-widgets/base",
            "_model_module_version": "1.5.0",
            "_view_count": null,
            "_view_module_version": "1.2.0",
            "bar_color": null,
            "_model_module": "@jupyter-widgets/controls"
          }
        },
        "fd759b19cdb045b8ae39fd9e5cbc2a37": {
          "model_module": "@jupyter-widgets/base",
          "model_name": "LayoutModel",
          "state": {
            "_view_name": "LayoutView",
            "grid_template_rows": null,
            "right": null,
            "justify_content": null,
            "_view_module": "@jupyter-widgets/base",
            "overflow": null,
            "_model_module_version": "1.2.0",
            "_view_count": null,
            "flex_flow": null,
            "width": null,
            "min_width": null,
            "border": null,
            "align_items": null,
            "bottom": null,
            "_model_module": "@jupyter-widgets/base",
            "top": null,
            "grid_column": null,
            "overflow_y": null,
            "overflow_x": null,
            "grid_auto_flow": null,
            "grid_area": null,
            "grid_template_columns": null,
            "flex": null,
            "_model_name": "LayoutModel",
            "justify_items": null,
            "grid_row": null,
            "max_height": null,
            "align_content": null,
            "visibility": null,
            "align_self": null,
            "height": null,
            "min_height": null,
            "padding": null,
            "grid_auto_rows": null,
            "grid_gap": null,
            "max_width": null,
            "order": null,
            "_view_module_version": "1.2.0",
            "grid_template_areas": null,
            "object_position": null,
            "object_fit": null,
            "grid_auto_columns": null,
            "margin": null,
            "display": null,
            "left": null
          }
        },
        "11631d25457e4f02be044f15b56a4c58": {
          "model_module": "@jupyter-widgets/controls",
          "model_name": "DescriptionStyleModel",
          "state": {
            "_view_name": "StyleView",
            "_model_name": "DescriptionStyleModel",
            "description_width": "",
            "_view_module": "@jupyter-widgets/base",
            "_model_module_version": "1.5.0",
            "_view_count": null,
            "_view_module_version": "1.2.0",
            "_model_module": "@jupyter-widgets/controls"
          }
        },
        "d960658b4f42452c91c208440b536bfc": {
          "model_module": "@jupyter-widgets/base",
          "model_name": "LayoutModel",
          "state": {
            "_view_name": "LayoutView",
            "grid_template_rows": null,
            "right": null,
            "justify_content": null,
            "_view_module": "@jupyter-widgets/base",
            "overflow": null,
            "_model_module_version": "1.2.0",
            "_view_count": null,
            "flex_flow": null,
            "width": null,
            "min_width": null,
            "border": null,
            "align_items": null,
            "bottom": null,
            "_model_module": "@jupyter-widgets/base",
            "top": null,
            "grid_column": null,
            "overflow_y": null,
            "overflow_x": null,
            "grid_auto_flow": null,
            "grid_area": null,
            "grid_template_columns": null,
            "flex": null,
            "_model_name": "LayoutModel",
            "justify_items": null,
            "grid_row": null,
            "max_height": null,
            "align_content": null,
            "visibility": null,
            "align_self": null,
            "height": null,
            "min_height": null,
            "padding": null,
            "grid_auto_rows": null,
            "grid_gap": null,
            "max_width": null,
            "order": null,
            "_view_module_version": "1.2.0",
            "grid_template_areas": null,
            "object_position": null,
            "object_fit": null,
            "grid_auto_columns": null,
            "margin": null,
            "display": null,
            "left": null
          }
        },
        "6e4d1daf94e6481e968444f62c6dde75": {
          "model_module": "@jupyter-widgets/controls",
          "model_name": "HBoxModel",
          "state": {
            "_view_name": "HBoxView",
            "_dom_classes": [],
            "_model_name": "HBoxModel",
            "_view_module": "@jupyter-widgets/controls",
            "_model_module_version": "1.5.0",
            "_view_count": null,
            "_view_module_version": "1.5.0",
            "box_style": "",
            "layout": "IPY_MODEL_38cae7560f714ec9bdccbfcc7e71cd21",
            "_model_module": "@jupyter-widgets/controls",
            "children": [
              "IPY_MODEL_a370d6f974bb4fa5a439f50a765afc34",
              "IPY_MODEL_375708f1673f4334a53519def6a336f2"
            ]
          }
        },
        "38cae7560f714ec9bdccbfcc7e71cd21": {
          "model_module": "@jupyter-widgets/base",
          "model_name": "LayoutModel",
          "state": {
            "_view_name": "LayoutView",
            "grid_template_rows": null,
            "right": null,
            "justify_content": null,
            "_view_module": "@jupyter-widgets/base",
            "overflow": null,
            "_model_module_version": "1.2.0",
            "_view_count": null,
            "flex_flow": null,
            "width": null,
            "min_width": null,
            "border": null,
            "align_items": null,
            "bottom": null,
            "_model_module": "@jupyter-widgets/base",
            "top": null,
            "grid_column": null,
            "overflow_y": null,
            "overflow_x": null,
            "grid_auto_flow": null,
            "grid_area": null,
            "grid_template_columns": null,
            "flex": null,
            "_model_name": "LayoutModel",
            "justify_items": null,
            "grid_row": null,
            "max_height": null,
            "align_content": null,
            "visibility": null,
            "align_self": null,
            "height": null,
            "min_height": null,
            "padding": null,
            "grid_auto_rows": null,
            "grid_gap": null,
            "max_width": null,
            "order": null,
            "_view_module_version": "1.2.0",
            "grid_template_areas": null,
            "object_position": null,
            "object_fit": null,
            "grid_auto_columns": null,
            "margin": null,
            "display": null,
            "left": null
          }
        },
        "a370d6f974bb4fa5a439f50a765afc34": {
          "model_module": "@jupyter-widgets/controls",
          "model_name": "FloatProgressModel",
          "state": {
            "_view_name": "ProgressView",
            "style": "IPY_MODEL_7ab6a795ebb748d5be683626e51cb782",
            "_dom_classes": [],
            "description": "100%",
            "_model_name": "FloatProgressModel",
            "bar_style": "success",
            "max": 11950,
            "_view_module": "@jupyter-widgets/controls",
            "_model_module_version": "1.5.0",
            "value": 11950,
            "_view_count": null,
            "_view_module_version": "1.5.0",
            "orientation": "horizontal",
            "min": 0,
            "description_tooltip": null,
            "_model_module": "@jupyter-widgets/controls",
            "layout": "IPY_MODEL_e7f1fcde3cec43c8b1fdfa21e4d30aff"
          }
        },
        "375708f1673f4334a53519def6a336f2": {
          "model_module": "@jupyter-widgets/controls",
          "model_name": "HTMLModel",
          "state": {
            "_view_name": "HTMLView",
            "style": "IPY_MODEL_2dc1665a6d724c998ab18cb9ef319227",
            "_dom_classes": [],
            "description": "",
            "_model_name": "HTMLModel",
            "placeholder": "​",
            "_view_module": "@jupyter-widgets/controls",
            "_model_module_version": "1.5.0",
            "value": " 11950/11950 [00:01&lt;00:00, 6068.45it/s]",
            "_view_count": null,
            "_view_module_version": "1.5.0",
            "description_tooltip": null,
            "_model_module": "@jupyter-widgets/controls",
            "layout": "IPY_MODEL_c32e1de2a10f40309ed30196c54e828d"
          }
        },
        "7ab6a795ebb748d5be683626e51cb782": {
          "model_module": "@jupyter-widgets/controls",
          "model_name": "ProgressStyleModel",
          "state": {
            "_view_name": "StyleView",
            "_model_name": "ProgressStyleModel",
            "description_width": "initial",
            "_view_module": "@jupyter-widgets/base",
            "_model_module_version": "1.5.0",
            "_view_count": null,
            "_view_module_version": "1.2.0",
            "bar_color": null,
            "_model_module": "@jupyter-widgets/controls"
          }
        },
        "e7f1fcde3cec43c8b1fdfa21e4d30aff": {
          "model_module": "@jupyter-widgets/base",
          "model_name": "LayoutModel",
          "state": {
            "_view_name": "LayoutView",
            "grid_template_rows": null,
            "right": null,
            "justify_content": null,
            "_view_module": "@jupyter-widgets/base",
            "overflow": null,
            "_model_module_version": "1.2.0",
            "_view_count": null,
            "flex_flow": null,
            "width": null,
            "min_width": null,
            "border": null,
            "align_items": null,
            "bottom": null,
            "_model_module": "@jupyter-widgets/base",
            "top": null,
            "grid_column": null,
            "overflow_y": null,
            "overflow_x": null,
            "grid_auto_flow": null,
            "grid_area": null,
            "grid_template_columns": null,
            "flex": null,
            "_model_name": "LayoutModel",
            "justify_items": null,
            "grid_row": null,
            "max_height": null,
            "align_content": null,
            "visibility": null,
            "align_self": null,
            "height": null,
            "min_height": null,
            "padding": null,
            "grid_auto_rows": null,
            "grid_gap": null,
            "max_width": null,
            "order": null,
            "_view_module_version": "1.2.0",
            "grid_template_areas": null,
            "object_position": null,
            "object_fit": null,
            "grid_auto_columns": null,
            "margin": null,
            "display": null,
            "left": null
          }
        },
        "2dc1665a6d724c998ab18cb9ef319227": {
          "model_module": "@jupyter-widgets/controls",
          "model_name": "DescriptionStyleModel",
          "state": {
            "_view_name": "StyleView",
            "_model_name": "DescriptionStyleModel",
            "description_width": "",
            "_view_module": "@jupyter-widgets/base",
            "_model_module_version": "1.5.0",
            "_view_count": null,
            "_view_module_version": "1.2.0",
            "_model_module": "@jupyter-widgets/controls"
          }
        },
        "c32e1de2a10f40309ed30196c54e828d": {
          "model_module": "@jupyter-widgets/base",
          "model_name": "LayoutModel",
          "state": {
            "_view_name": "LayoutView",
            "grid_template_rows": null,
            "right": null,
            "justify_content": null,
            "_view_module": "@jupyter-widgets/base",
            "overflow": null,
            "_model_module_version": "1.2.0",
            "_view_count": null,
            "flex_flow": null,
            "width": null,
            "min_width": null,
            "border": null,
            "align_items": null,
            "bottom": null,
            "_model_module": "@jupyter-widgets/base",
            "top": null,
            "grid_column": null,
            "overflow_y": null,
            "overflow_x": null,
            "grid_auto_flow": null,
            "grid_area": null,
            "grid_template_columns": null,
            "flex": null,
            "_model_name": "LayoutModel",
            "justify_items": null,
            "grid_row": null,
            "max_height": null,
            "align_content": null,
            "visibility": null,
            "align_self": null,
            "height": null,
            "min_height": null,
            "padding": null,
            "grid_auto_rows": null,
            "grid_gap": null,
            "max_width": null,
            "order": null,
            "_view_module_version": "1.2.0",
            "grid_template_areas": null,
            "object_position": null,
            "object_fit": null,
            "grid_auto_columns": null,
            "margin": null,
            "display": null,
            "left": null
          }
        },
        "7d072c587abd4c1e9bf6c4fb3a251ff9": {
          "model_module": "@jupyter-widgets/controls",
          "model_name": "HBoxModel",
          "state": {
            "_view_name": "HBoxView",
            "_dom_classes": [],
            "_model_name": "HBoxModel",
            "_view_module": "@jupyter-widgets/controls",
            "_model_module_version": "1.5.0",
            "_view_count": null,
            "_view_module_version": "1.5.0",
            "box_style": "",
            "layout": "IPY_MODEL_28c5bab226c64d518701d3c83160e063",
            "_model_module": "@jupyter-widgets/controls",
            "children": [
              "IPY_MODEL_51a12ff1da3a40dfb3bafbde38a3d3ae",
              "IPY_MODEL_d274968d5cf04dc98a842c09803048e3"
            ]
          }
        },
        "28c5bab226c64d518701d3c83160e063": {
          "model_module": "@jupyter-widgets/base",
          "model_name": "LayoutModel",
          "state": {
            "_view_name": "LayoutView",
            "grid_template_rows": null,
            "right": null,
            "justify_content": null,
            "_view_module": "@jupyter-widgets/base",
            "overflow": null,
            "_model_module_version": "1.2.0",
            "_view_count": null,
            "flex_flow": null,
            "width": null,
            "min_width": null,
            "border": null,
            "align_items": null,
            "bottom": null,
            "_model_module": "@jupyter-widgets/base",
            "top": null,
            "grid_column": null,
            "overflow_y": null,
            "overflow_x": null,
            "grid_auto_flow": null,
            "grid_area": null,
            "grid_template_columns": null,
            "flex": null,
            "_model_name": "LayoutModel",
            "justify_items": null,
            "grid_row": null,
            "max_height": null,
            "align_content": null,
            "visibility": null,
            "align_self": null,
            "height": null,
            "min_height": null,
            "padding": null,
            "grid_auto_rows": null,
            "grid_gap": null,
            "max_width": null,
            "order": null,
            "_view_module_version": "1.2.0",
            "grid_template_areas": null,
            "object_position": null,
            "object_fit": null,
            "grid_auto_columns": null,
            "margin": null,
            "display": null,
            "left": null
          }
        },
        "51a12ff1da3a40dfb3bafbde38a3d3ae": {
          "model_module": "@jupyter-widgets/controls",
          "model_name": "FloatProgressModel",
          "state": {
            "_view_name": "ProgressView",
            "style": "IPY_MODEL_9c073e67102f450e9afbcbbaff244d72",
            "_dom_classes": [],
            "description": "100%",
            "_model_name": "FloatProgressModel",
            "bar_style": "success",
            "max": 2235,
            "_view_module": "@jupyter-widgets/controls",
            "_model_module_version": "1.5.0",
            "value": 2235,
            "_view_count": null,
            "_view_module_version": "1.5.0",
            "orientation": "horizontal",
            "min": 0,
            "description_tooltip": null,
            "_model_module": "@jupyter-widgets/controls",
            "layout": "IPY_MODEL_da387ec31c85474884528725110475b0"
          }
        },
        "d274968d5cf04dc98a842c09803048e3": {
          "model_module": "@jupyter-widgets/controls",
          "model_name": "HTMLModel",
          "state": {
            "_view_name": "HTMLView",
            "style": "IPY_MODEL_bef30ed6f1e94320b3a9fc33a32c7109",
            "_dom_classes": [],
            "description": "",
            "_model_name": "HTMLModel",
            "placeholder": "​",
            "_view_module": "@jupyter-widgets/controls",
            "_model_module_version": "1.5.0",
            "value": " 2235/2235 [00:00&lt;00:00, 5842.90it/s]",
            "_view_count": null,
            "_view_module_version": "1.5.0",
            "description_tooltip": null,
            "_model_module": "@jupyter-widgets/controls",
            "layout": "IPY_MODEL_68245476176d4ca4918d21331f6a5427"
          }
        },
        "9c073e67102f450e9afbcbbaff244d72": {
          "model_module": "@jupyter-widgets/controls",
          "model_name": "ProgressStyleModel",
          "state": {
            "_view_name": "StyleView",
            "_model_name": "ProgressStyleModel",
            "description_width": "initial",
            "_view_module": "@jupyter-widgets/base",
            "_model_module_version": "1.5.0",
            "_view_count": null,
            "_view_module_version": "1.2.0",
            "bar_color": null,
            "_model_module": "@jupyter-widgets/controls"
          }
        },
        "da387ec31c85474884528725110475b0": {
          "model_module": "@jupyter-widgets/base",
          "model_name": "LayoutModel",
          "state": {
            "_view_name": "LayoutView",
            "grid_template_rows": null,
            "right": null,
            "justify_content": null,
            "_view_module": "@jupyter-widgets/base",
            "overflow": null,
            "_model_module_version": "1.2.0",
            "_view_count": null,
            "flex_flow": null,
            "width": null,
            "min_width": null,
            "border": null,
            "align_items": null,
            "bottom": null,
            "_model_module": "@jupyter-widgets/base",
            "top": null,
            "grid_column": null,
            "overflow_y": null,
            "overflow_x": null,
            "grid_auto_flow": null,
            "grid_area": null,
            "grid_template_columns": null,
            "flex": null,
            "_model_name": "LayoutModel",
            "justify_items": null,
            "grid_row": null,
            "max_height": null,
            "align_content": null,
            "visibility": null,
            "align_self": null,
            "height": null,
            "min_height": null,
            "padding": null,
            "grid_auto_rows": null,
            "grid_gap": null,
            "max_width": null,
            "order": null,
            "_view_module_version": "1.2.0",
            "grid_template_areas": null,
            "object_position": null,
            "object_fit": null,
            "grid_auto_columns": null,
            "margin": null,
            "display": null,
            "left": null
          }
        },
        "bef30ed6f1e94320b3a9fc33a32c7109": {
          "model_module": "@jupyter-widgets/controls",
          "model_name": "DescriptionStyleModel",
          "state": {
            "_view_name": "StyleView",
            "_model_name": "DescriptionStyleModel",
            "description_width": "",
            "_view_module": "@jupyter-widgets/base",
            "_model_module_version": "1.5.0",
            "_view_count": null,
            "_view_module_version": "1.2.0",
            "_model_module": "@jupyter-widgets/controls"
          }
        },
        "68245476176d4ca4918d21331f6a5427": {
          "model_module": "@jupyter-widgets/base",
          "model_name": "LayoutModel",
          "state": {
            "_view_name": "LayoutView",
            "grid_template_rows": null,
            "right": null,
            "justify_content": null,
            "_view_module": "@jupyter-widgets/base",
            "overflow": null,
            "_model_module_version": "1.2.0",
            "_view_count": null,
            "flex_flow": null,
            "width": null,
            "min_width": null,
            "border": null,
            "align_items": null,
            "bottom": null,
            "_model_module": "@jupyter-widgets/base",
            "top": null,
            "grid_column": null,
            "overflow_y": null,
            "overflow_x": null,
            "grid_auto_flow": null,
            "grid_area": null,
            "grid_template_columns": null,
            "flex": null,
            "_model_name": "LayoutModel",
            "justify_items": null,
            "grid_row": null,
            "max_height": null,
            "align_content": null,
            "visibility": null,
            "align_self": null,
            "height": null,
            "min_height": null,
            "padding": null,
            "grid_auto_rows": null,
            "grid_gap": null,
            "max_width": null,
            "order": null,
            "_view_module_version": "1.2.0",
            "grid_template_areas": null,
            "object_position": null,
            "object_fit": null,
            "grid_auto_columns": null,
            "margin": null,
            "display": null,
            "left": null
          }
        },
        "35a487c5b4314542b1ceebff2a589ac2": {
          "model_module": "@jupyter-widgets/controls",
          "model_name": "HBoxModel",
          "state": {
            "_view_name": "HBoxView",
            "_dom_classes": [],
            "_model_name": "HBoxModel",
            "_view_module": "@jupyter-widgets/controls",
            "_model_module_version": "1.5.0",
            "_view_count": null,
            "_view_module_version": "1.5.0",
            "box_style": "",
            "layout": "IPY_MODEL_c05f2b7210824c56b407ea2351b1e368",
            "_model_module": "@jupyter-widgets/controls",
            "children": [
              "IPY_MODEL_6b06a18caf454ea895a89c39e0b4bad3",
              "IPY_MODEL_dddb7430954448fc839a2ec7a64ed605"
            ]
          }
        },
        "c05f2b7210824c56b407ea2351b1e368": {
          "model_module": "@jupyter-widgets/base",
          "model_name": "LayoutModel",
          "state": {
            "_view_name": "LayoutView",
            "grid_template_rows": null,
            "right": null,
            "justify_content": null,
            "_view_module": "@jupyter-widgets/base",
            "overflow": null,
            "_model_module_version": "1.2.0",
            "_view_count": null,
            "flex_flow": null,
            "width": null,
            "min_width": null,
            "border": null,
            "align_items": null,
            "bottom": null,
            "_model_module": "@jupyter-widgets/base",
            "top": null,
            "grid_column": null,
            "overflow_y": null,
            "overflow_x": null,
            "grid_auto_flow": null,
            "grid_area": null,
            "grid_template_columns": null,
            "flex": null,
            "_model_name": "LayoutModel",
            "justify_items": null,
            "grid_row": null,
            "max_height": null,
            "align_content": null,
            "visibility": null,
            "align_self": null,
            "height": null,
            "min_height": null,
            "padding": null,
            "grid_auto_rows": null,
            "grid_gap": null,
            "max_width": null,
            "order": null,
            "_view_module_version": "1.2.0",
            "grid_template_areas": null,
            "object_position": null,
            "object_fit": null,
            "grid_auto_columns": null,
            "margin": null,
            "display": null,
            "left": null
          }
        },
        "6b06a18caf454ea895a89c39e0b4bad3": {
          "model_module": "@jupyter-widgets/controls",
          "model_name": "FloatProgressModel",
          "state": {
            "_view_name": "ProgressView",
            "style": "IPY_MODEL_caa747dc3f5e47af9504faf84ee0549c",
            "_dom_classes": [],
            "description": "Downloading: 100%",
            "_model_name": "FloatProgressModel",
            "bar_style": "success",
            "max": 995526,
            "_view_module": "@jupyter-widgets/controls",
            "_model_module_version": "1.5.0",
            "value": 995526,
            "_view_count": null,
            "_view_module_version": "1.5.0",
            "orientation": "horizontal",
            "min": 0,
            "description_tooltip": null,
            "_model_module": "@jupyter-widgets/controls",
            "layout": "IPY_MODEL_51432b69018b4094899635955ad05180"
          }
        },
        "dddb7430954448fc839a2ec7a64ed605": {
          "model_module": "@jupyter-widgets/controls",
          "model_name": "HTMLModel",
          "state": {
            "_view_name": "HTMLView",
            "style": "IPY_MODEL_4c1726cfd6df4881bedc630d2f476d9d",
            "_dom_classes": [],
            "description": "",
            "_model_name": "HTMLModel",
            "placeholder": "​",
            "_view_module": "@jupyter-widgets/controls",
            "_model_module_version": "1.5.0",
            "value": " 996k/996k [00:00&lt;00:00, 1.65MB/s]",
            "_view_count": null,
            "_view_module_version": "1.5.0",
            "description_tooltip": null,
            "_model_module": "@jupyter-widgets/controls",
            "layout": "IPY_MODEL_f51de6adac75445f96d597a06bbfaed4"
          }
        },
        "caa747dc3f5e47af9504faf84ee0549c": {
          "model_module": "@jupyter-widgets/controls",
          "model_name": "ProgressStyleModel",
          "state": {
            "_view_name": "StyleView",
            "_model_name": "ProgressStyleModel",
            "description_width": "initial",
            "_view_module": "@jupyter-widgets/base",
            "_model_module_version": "1.5.0",
            "_view_count": null,
            "_view_module_version": "1.2.0",
            "bar_color": null,
            "_model_module": "@jupyter-widgets/controls"
          }
        },
        "51432b69018b4094899635955ad05180": {
          "model_module": "@jupyter-widgets/base",
          "model_name": "LayoutModel",
          "state": {
            "_view_name": "LayoutView",
            "grid_template_rows": null,
            "right": null,
            "justify_content": null,
            "_view_module": "@jupyter-widgets/base",
            "overflow": null,
            "_model_module_version": "1.2.0",
            "_view_count": null,
            "flex_flow": null,
            "width": null,
            "min_width": null,
            "border": null,
            "align_items": null,
            "bottom": null,
            "_model_module": "@jupyter-widgets/base",
            "top": null,
            "grid_column": null,
            "overflow_y": null,
            "overflow_x": null,
            "grid_auto_flow": null,
            "grid_area": null,
            "grid_template_columns": null,
            "flex": null,
            "_model_name": "LayoutModel",
            "justify_items": null,
            "grid_row": null,
            "max_height": null,
            "align_content": null,
            "visibility": null,
            "align_self": null,
            "height": null,
            "min_height": null,
            "padding": null,
            "grid_auto_rows": null,
            "grid_gap": null,
            "max_width": null,
            "order": null,
            "_view_module_version": "1.2.0",
            "grid_template_areas": null,
            "object_position": null,
            "object_fit": null,
            "grid_auto_columns": null,
            "margin": null,
            "display": null,
            "left": null
          }
        },
        "4c1726cfd6df4881bedc630d2f476d9d": {
          "model_module": "@jupyter-widgets/controls",
          "model_name": "DescriptionStyleModel",
          "state": {
            "_view_name": "StyleView",
            "_model_name": "DescriptionStyleModel",
            "description_width": "",
            "_view_module": "@jupyter-widgets/base",
            "_model_module_version": "1.5.0",
            "_view_count": null,
            "_view_module_version": "1.2.0",
            "_model_module": "@jupyter-widgets/controls"
          }
        },
        "f51de6adac75445f96d597a06bbfaed4": {
          "model_module": "@jupyter-widgets/base",
          "model_name": "LayoutModel",
          "state": {
            "_view_name": "LayoutView",
            "grid_template_rows": null,
            "right": null,
            "justify_content": null,
            "_view_module": "@jupyter-widgets/base",
            "overflow": null,
            "_model_module_version": "1.2.0",
            "_view_count": null,
            "flex_flow": null,
            "width": null,
            "min_width": null,
            "border": null,
            "align_items": null,
            "bottom": null,
            "_model_module": "@jupyter-widgets/base",
            "top": null,
            "grid_column": null,
            "overflow_y": null,
            "overflow_x": null,
            "grid_auto_flow": null,
            "grid_area": null,
            "grid_template_columns": null,
            "flex": null,
            "_model_name": "LayoutModel",
            "justify_items": null,
            "grid_row": null,
            "max_height": null,
            "align_content": null,
            "visibility": null,
            "align_self": null,
            "height": null,
            "min_height": null,
            "padding": null,
            "grid_auto_rows": null,
            "grid_gap": null,
            "max_width": null,
            "order": null,
            "_view_module_version": "1.2.0",
            "grid_template_areas": null,
            "object_position": null,
            "object_fit": null,
            "grid_auto_columns": null,
            "margin": null,
            "display": null,
            "left": null
          }
        }
      }
    }
  },
  "cells": [
    {
      "cell_type": "code",
      "metadata": {
        "id": "S-fFrhM_P5_D"
      },
      "source": [
        "!pip install wandb --upgrade\r\n",
        "!pip install transformers\r\n",
        "!pip install wget\r\n",
        "!pip install tqdm"
      ],
      "execution_count": null,
      "outputs": []
    },
    {
      "cell_type": "code",
      "metadata": {
        "id": "nc86oL4aWNOD"
      },
      "source": [
        "!wget https://raw.githubusercontent.com/AI-Front/NTI/main/semifinals/data/train.jsonl\r\n",
        "!wget  https://raw.githubusercontent.com/AI-Front/NTI/main/semifinals/data/val.jsonl\r\n",
        "!wget  https://raw.githubusercontent.com/AI-Front/NTI/main/semifinals/data/test.jsonl"
      ],
      "execution_count": null,
      "outputs": []
    },
    {
      "cell_type": "code",
      "metadata": {
        "colab": {
          "base_uri": "https://localhost:8080/",
          "height": 68
        },
        "id": "NdqUv3AzWyrF",
        "outputId": "5eb80f6a-7f4a-453f-f25c-1d93fbd1201f"
      },
      "source": [
        "from tqdm.notebook import tqdm\r\n",
        "import re\r\n",
        "import pandas as pd\r\n",
        "import json\r\n",
        "from transformers import AutoModel\r\n",
        "import wandb\r\n",
        "from torch.utils.data import TensorDataset\r\n",
        "from torch.utils.data import DataLoader, RandomSampler, SequentialSampler\r\n",
        "from transformers import BertForSequenceClassification, AdamW, BertConfig\r\n",
        "from transformers import get_linear_schedule_with_warmup\r\n",
        "wandb.login()"
      ],
      "execution_count": null,
      "outputs": [
        {
          "output_type": "display_data",
          "data": {
            "application/javascript": [
              "\n",
              "        window._wandbApiKey = new Promise((resolve, reject) => {\n",
              "            function loadScript(url) {\n",
              "            return new Promise(function(resolve, reject) {\n",
              "                let newScript = document.createElement(\"script\");\n",
              "                newScript.onerror = reject;\n",
              "                newScript.onload = resolve;\n",
              "                document.body.appendChild(newScript);\n",
              "                newScript.src = url;\n",
              "            });\n",
              "            }\n",
              "            loadScript(\"https://cdn.jsdelivr.net/npm/postmate/build/postmate.min.js\").then(() => {\n",
              "            const iframe = document.createElement('iframe')\n",
              "            iframe.style.cssText = \"width:0;height:0;border:none\"\n",
              "            document.body.appendChild(iframe)\n",
              "            const handshake = new Postmate({\n",
              "                container: iframe,\n",
              "                url: 'https://wandb.ai/authorize'\n",
              "            });\n",
              "            const timeout = setTimeout(() => reject(\"Couldn't auto authenticate\"), 5000)\n",
              "            handshake.then(function(child) {\n",
              "                child.on('authorize', data => {\n",
              "                    clearTimeout(timeout)\n",
              "                    resolve(data)\n",
              "                });\n",
              "            });\n",
              "            })\n",
              "        });\n",
              "    "
            ],
            "text/plain": [
              "<IPython.core.display.Javascript object>"
            ]
          },
          "metadata": {
            "tags": []
          }
        },
        {
          "output_type": "stream",
          "text": [
            "\u001b[34m\u001b[1mwandb\u001b[0m: Appending key for api.wandb.ai to your netrc file: /root/.netrc\n"
          ],
          "name": "stderr"
        },
        {
          "output_type": "execute_result",
          "data": {
            "text/plain": [
              "True"
            ]
          },
          "metadata": {
            "tags": []
          },
          "execution_count": 3
        }
      ]
    },
    {
      "cell_type": "code",
      "metadata": {
        "id": "GP85rCxpW2mW"
      },
      "source": [
        "def text_splitter(text, amount=500): \r\n",
        "    tokens = text.split(' ')\r\n",
        "    new_text = ' '.join(tokens[-amount:])\r\n",
        "    return new_text\r\n",
        "    \r\n",
        "def get_data(data_json_file):\r\n",
        "    qw = 0\r\n",
        "    df = pd.DataFrame(columns = ['Text', 'label'])\r\n",
        "    with open(data_json_file, 'r') as json_file:\r\n",
        "        json_list = list(json_file)\r\n",
        "        #print(json_list[0])\r\n",
        "        for json_str in tqdm(json_list):\r\n",
        "            item = json.loads(json_str)\r\n",
        "            text = item['passage']['text']\r\n",
        "            questions = item['passage']['questions']\r\n",
        "            for q in questions:\r\n",
        "                query = q['question']\r\n",
        "                ans = q['answers']\r\n",
        "                for a in ans:\r\n",
        "                    #data = {'Text': text_splitter(text+' Query: '+query+' Answer: '+a['text']), 'label': a['label']}\r\n",
        "                    #data = {'Text' : 'Query: '+query+' Answer: '+a['text'] + ' Text: ' + text, 'label': a['label']}\r\n",
        "                    data = {'Text' : query+' '+a['text'] + ' ' + text, 'label': a['label']}\r\n",
        "                    #data = {'Text' : query+' '+a['text'], 'label': a['label']}\r\n",
        "                    #data = {'Text' : text + ' Query: ' + query + ' Answer: ' + a['text'], 'label': a['label']}\r\n",
        "                    #X.append(text+' Query: '+query+' Answer: '+a['text'])\r\n",
        "                    #y.append(a['label'])\r\n",
        "                    df.loc[qw] = data\r\n",
        "                    qw += 1\r\n",
        "    return df"
      ],
      "execution_count": null,
      "outputs": []
    },
    {
      "cell_type": "code",
      "metadata": {
        "id": "CH7dCvqGW37O"
      },
      "source": [
        "def simbols(frame):\r\n",
        "    for i in tqdm(range(len(frame.index))):\r\n",
        "        alpha = frame.iloc[i]['Text']\r\n",
        "        #print(alpha)\r\n",
        "        alpha = str(re.sub(r'\\([^()]*\\)', '', alpha))\r\n",
        "        #alpha = str(alpha.replace('\"', ''))\r\n",
        "        alpha = str(alpha.replace('Ё', 'Е'))\r\n",
        "        alpha = str(alpha.replace('ё', 'е'))\r\n",
        "        \r\n",
        "        frame.at[i, 'Text'] = alpha\r\n",
        "    return frame"
      ],
      "execution_count": null,
      "outputs": []
    },
    {
      "cell_type": "code",
      "metadata": {
        "colab": {
          "base_uri": "https://localhost:8080/",
          "height": 213,
          "referenced_widgets": [
            "4bdefe25e2ff4511bfcb70c783ba0949",
            "0ca43b7aacfe4688bd7c9f152b3a87f3",
            "25bba322bf2446978d25e0b5103af1e1",
            "06ae485c51a049eab623226208d8958e",
            "a98dc9787c2b4e5db7ee1e91af61e3f1",
            "f6e4971a3f6c46bba9498286e7473efb",
            "5977dfe9f6ba499093109675be916e57",
            "c7a34866d69a4d4e9530dd7f7f949b59",
            "ebe57e00f6184e5b8ada05906c914616",
            "1d7eba8cf9614ce398bf89be0e21bf4c",
            "f216eea3a2984dc6b3de6a967bc62709",
            "d67c4119e5194e4b8a988080ce9aa2ac",
            "dff5f761e6d0482c918f8014648e9cd0",
            "fd759b19cdb045b8ae39fd9e5cbc2a37",
            "11631d25457e4f02be044f15b56a4c58",
            "d960658b4f42452c91c208440b536bfc",
            "6e4d1daf94e6481e968444f62c6dde75",
            "38cae7560f714ec9bdccbfcc7e71cd21",
            "a370d6f974bb4fa5a439f50a765afc34",
            "375708f1673f4334a53519def6a336f2",
            "7ab6a795ebb748d5be683626e51cb782",
            "e7f1fcde3cec43c8b1fdfa21e4d30aff",
            "2dc1665a6d724c998ab18cb9ef319227",
            "c32e1de2a10f40309ed30196c54e828d",
            "7d072c587abd4c1e9bf6c4fb3a251ff9",
            "28c5bab226c64d518701d3c83160e063",
            "51a12ff1da3a40dfb3bafbde38a3d3ae",
            "d274968d5cf04dc98a842c09803048e3",
            "9c073e67102f450e9afbcbbaff244d72",
            "da387ec31c85474884528725110475b0",
            "bef30ed6f1e94320b3a9fc33a32c7109",
            "68245476176d4ca4918d21331f6a5427"
          ]
        },
        "id": "NRvSQl8EW5Tw",
        "outputId": "cede23bc-9482-4370-abd6-1cb9e06a7b1e"
      },
      "source": [
        "train = get_data('train.jsonl')\r\n",
        "val = get_data('val.jsonl')\r\n",
        "train_data = simbols(train)\r\n",
        "val_data = simbols(val)"
      ],
      "execution_count": null,
      "outputs": [
        {
          "output_type": "display_data",
          "data": {
            "application/vnd.jupyter.widget-view+json": {
              "model_id": "4bdefe25e2ff4511bfcb70c783ba0949",
              "version_minor": 0,
              "version_major": 2
            },
            "text/plain": [
              "HBox(children=(FloatProgress(value=0.0, max=500.0), HTML(value='')))"
            ]
          },
          "metadata": {
            "tags": []
          }
        },
        {
          "output_type": "stream",
          "text": [
            "\n"
          ],
          "name": "stdout"
        },
        {
          "output_type": "display_data",
          "data": {
            "application/vnd.jupyter.widget-view+json": {
              "model_id": "ebe57e00f6184e5b8ada05906c914616",
              "version_minor": 0,
              "version_major": 2
            },
            "text/plain": [
              "HBox(children=(FloatProgress(value=0.0), HTML(value='')))"
            ]
          },
          "metadata": {
            "tags": []
          }
        },
        {
          "output_type": "stream",
          "text": [
            "\n"
          ],
          "name": "stdout"
        },
        {
          "output_type": "display_data",
          "data": {
            "application/vnd.jupyter.widget-view+json": {
              "model_id": "6e4d1daf94e6481e968444f62c6dde75",
              "version_minor": 0,
              "version_major": 2
            },
            "text/plain": [
              "HBox(children=(FloatProgress(value=0.0, max=11950.0), HTML(value='')))"
            ]
          },
          "metadata": {
            "tags": []
          }
        },
        {
          "output_type": "stream",
          "text": [
            "\n"
          ],
          "name": "stdout"
        },
        {
          "output_type": "display_data",
          "data": {
            "application/vnd.jupyter.widget-view+json": {
              "model_id": "7d072c587abd4c1e9bf6c4fb3a251ff9",
              "version_minor": 0,
              "version_major": 2
            },
            "text/plain": [
              "HBox(children=(FloatProgress(value=0.0, max=2235.0), HTML(value='')))"
            ]
          },
          "metadata": {
            "tags": []
          }
        },
        {
          "output_type": "stream",
          "text": [
            "\n"
          ],
          "name": "stdout"
        }
      ]
    },
    {
      "cell_type": "code",
      "metadata": {
        "id": "-HVXj98KW70Z"
      },
      "source": [
        "train_texts = train_data.Text.values\r\n",
        "train_labels = train_data.label.values\r\n",
        "val_texts = val_data.Text.values\r\n",
        "val_labels = val_data.label.values\r\n",
        "train_labels\r\n",
        "train_labels = train_labels.astype('int')\r\n",
        "val_labels = val_labels.astype('int')"
      ],
      "execution_count": null,
      "outputs": []
    },
    {
      "cell_type": "markdown",
      "metadata": {
        "id": "ng4Nm70fXGxE"
      },
      "source": [
        "Это не меняется"
      ]
    },
    {
      "cell_type": "code",
      "metadata": {
        "id": "PkdmUOiqXElU"
      },
      "source": [
        "import numpy as np\r\n",
        "\r\n",
        "# Функция для вычисления точности модели\r\n",
        "def flat_accuracy(preds, labels):\r\n",
        "    pred_flat = np.argmax(preds, axis=1).flatten()\r\n",
        "    labels_flat = labels.flatten()\r\n",
        "    return np.sum(pred_flat == labels_flat) / len(labels_flat)"
      ],
      "execution_count": null,
      "outputs": []
    },
    {
      "cell_type": "code",
      "metadata": {
        "id": "38Txy-RgXM7A"
      },
      "source": [
        "import time\r\n",
        "import datetime\r\n",
        "\r\n",
        "def format_time(elapsed):\r\n",
        "    #Получаем время в секундах и возвращаем в формате hh:mm:ss  \r\n",
        "    # Round to the nearest second.\r\n",
        "    elapsed_rounded = int(round((elapsed)))\r\n",
        "    \r\n",
        "  \r\n",
        "    return str(datetime.timedelta(seconds=elapsed_rounded))\r\n"
      ],
      "execution_count": null,
      "outputs": []
    },
    {
      "cell_type": "code",
      "metadata": {
        "colab": {
          "base_uri": "https://localhost:8080/"
        },
        "id": "4lJi1yDxXYWu",
        "outputId": "b29a4f34-a589-4719-dad9-27a989b463cd"
      },
      "source": [
        "import torch  \r\n",
        "\t  \r\n",
        "# Проверка на доступность видеокарты  \r\n",
        "if torch.cuda.is_available():  \r\n",
        "\t  \r\n",
        "\t  # Объявляем в качестве устройства GPU  \r\n",
        "\t  device = torch.device(\"cuda\")  \r\n",
        "\t  \r\n",
        "\t  print('Количество доступных GPU %d .' % torch.cuda.device_count())  \r\n",
        "  \r\n",
        "\t  print('Используемая GPU:', torch.cuda.get_device_name(0))  \r\n",
        "\t  \r\n",
        "# Если GPU недоступна  \r\n",
        "else:  \r\n",
        "\t  print('GPU недоступна, используется CPU.')  \r\n",
        "\t  device = torch.device(\"cpu\")  "
      ],
      "execution_count": null,
      "outputs": [
        {
          "output_type": "stream",
          "text": [
            "There are 1 GPU(s) available.\n",
            "We will use the GPU: Tesla V100-SXM2-16GB\n"
          ],
          "name": "stdout"
        }
      ]
    },
    {
      "cell_type": "code",
      "metadata": {
        "id": "1r7wkxv8Y-Ba"
      },
      "source": [
        "sweep_config = {\r\n",
        "    #'method': 'grid', #grid, random\r\n",
        "    \"method\": \"bayes\",  # grid, random\r\n",
        "    \"metric\": {\"name\": \"Validation_Loss\", \"goal\": \"minimize\"},\r\n",
        "    'parameters': {\r\n",
        "        'epochs': {\r\n",
        "            'values': [2, 3, 4]\r\n",
        "        },\r\n",
        "        'batch_size': {\r\n",
        "            'values': [12]\r\n",
        "        },\r\n",
        "        \r\n",
        "        'eps': {\r\n",
        "            'values' : [1e-6, 1e-7, 1e-8]\r\n",
        "        },\r\n",
        "\r\n",
        "        'learning_rate': {\r\n",
        "            \"min\": 1e-5, \"max\": 1e-4\r\n",
        "        },\r\n",
        "        'max_length': {\r\n",
        "            'values': [512]\r\n",
        "        }\r\n",
        "\r\n",
        "    }\r\n",
        "}"
      ],
      "execution_count": null,
      "outputs": []
    },
    {
      "cell_type": "code",
      "metadata": {
        "colab": {
          "base_uri": "https://localhost:8080/"
        },
        "id": "DTccKSTtZvc_",
        "outputId": "f10c0a84-0f66-48e2-dde4-55b36f971b0d"
      },
      "source": [
        "sweep_id = wandb.sweep(sweep_config, project=\"Sputnik\")"
      ],
      "execution_count": null,
      "outputs": [
        {
          "output_type": "stream",
          "text": [
            "Create sweep with ID: wimhyfn9\n",
            "Sweep URL: https://wandb.ai/anonumous/Poisk3/sweeps/wimhyfn9\n"
          ],
          "name": "stdout"
        }
      ]
    },
    {
      "cell_type": "markdown",
      "metadata": {
        "id": "mAB8WETcX04f"
      },
      "source": [
        "Сама модель"
      ]
    },
    {
      "cell_type": "code",
      "metadata": {
        "colab": {
          "base_uri": "https://localhost:8080/",
          "height": 83,
          "referenced_widgets": [
            "35a487c5b4314542b1ceebff2a589ac2",
            "c05f2b7210824c56b407ea2351b1e368",
            "6b06a18caf454ea895a89c39e0b4bad3",
            "dddb7430954448fc839a2ec7a64ed605",
            "caa747dc3f5e47af9504faf84ee0549c",
            "51432b69018b4094899635955ad05180",
            "4c1726cfd6df4881bedc630d2f476d9d",
            "f51de6adac75445f96d597a06bbfaed4"
          ]
        },
        "id": "e7Z-ZBmEX0Is",
        "outputId": "c7480dc8-1e63-4b11-82de-9fd97557180d"
      },
      "source": [
        "from transformers import BertTokenizer\r\n",
        "# Загрузим токенайзер для BERT\r\n",
        "print('Загрузка токенайзера для BERT...')\r\n",
        "tokenizer_m = BertTokenizer.from_pretrained('bert-base-multilingual-cased', do_lower_case=True)"
      ],
      "execution_count": null,
      "outputs": [
        {
          "output_type": "stream",
          "text": [
            "Загрузка токенайзера для BERT...\n"
          ],
          "name": "stdout"
        },
        {
          "output_type": "display_data",
          "data": {
            "application/vnd.jupyter.widget-view+json": {
              "model_id": "35a487c5b4314542b1ceebff2a589ac2",
              "version_minor": 0,
              "version_major": 2
            },
            "text/plain": [
              "HBox(children=(FloatProgress(value=0.0, description='Downloading', max=995526.0, style=ProgressStyle(descripti…"
            ]
          },
          "metadata": {
            "tags": []
          }
        },
        {
          "output_type": "stream",
          "text": [
            "\n"
          ],
          "name": "stdout"
        }
      ]
    },
    {
      "cell_type": "code",
      "metadata": {
        "id": "imfv6wJ1YxxX"
      },
      "source": [
        "# Используем токенайзер для всего текста\r\n",
        "import torch\r\n",
        "def complite_data_one(sentenses, labels, max_length):\r\n",
        "      input_ids = []\r\n",
        "      attention_masks = []\r\n",
        "\r\n",
        "      # Проходимся по предложениям\r\n",
        "      for sent in tqdm(sentenses):\r\n",
        "        \r\n",
        "        encoded_dict = tokenizer_m.encode_plus(\r\n",
        "                          sent,                      # Исходное предложение\r\n",
        "                          add_special_tokens = True, # Добавляем токены \r\n",
        "                          max_length = max_length,           # Устанавливаем максимальную длинну\r\n",
        "                          pad_to_max_length = True,\r\n",
        "                          return_attention_mask = True,   # Создаём марицу внимания\r\n",
        "                          return_tensors = 'pt',     # Возвращаем тензоры\r\n",
        "                   )\r\n",
        "    \r\n",
        "           \r\n",
        "        input_ids.append(encoded_dict['input_ids'])\r\n",
        "    \r\n",
        "        \r\n",
        "        attention_masks.append(encoded_dict['attention_mask'])\r\n",
        "\r\n",
        "      # Конвертируем списки в тензоры\r\n",
        "      input_ids = torch.cat(input_ids, dim=0)\r\n",
        "      attention_masks = torch.cat(attention_masks, dim=0)\r\n",
        "      #print(*labels)\r\n",
        "      #labels = np.array(labels)\r\n",
        "      labels = labels.astype('int')\r\n",
        "      print(labels.dtype)\r\n",
        "      labels = torch.from_numpy(labels)\r\n",
        "\r\n",
        "\r\n",
        "      return input_ids, attention_masks, labels"
      ],
      "execution_count": null,
      "outputs": []
    },
    {
      "cell_type": "markdown",
      "metadata": {
        "id": "tWUM2SfEaa4w"
      },
      "source": [
        "Собираем всё воединно"
      ]
    },
    {
      "cell_type": "code",
      "metadata": {
        "id": "imXMjR2aac1x"
      },
      "source": [
        "import random\r\n",
        "\r\n",
        "\r\n",
        "def train():\r\n",
        "    config_defaults = { # задаём конфиг модели по умолчанию\r\n",
        "        'epochs': 2,\r\n",
        "        'batch_size': 4,\r\n",
        "        'learning_rate': 1e-3,\r\n",
        "        'max_length': 512\r\n",
        "    }\r\n",
        "    wandb.init(config=config_defaults) # Объявляем wandb для автоподбора параметров\r\n",
        "    config = wandb.config\r\n",
        "    input_ids_train_m, attention_masks_train_m, labels_train_m = complite_data_one(train_texts, train_labels, # преобразуем наши дастасеты для обучения\r\n",
        "                                                                                   config.max_length)\r\n",
        "    input_ids_val_m, attention_masks_val_m, labels_val_m = complite_data_one(val_texts, val_labels, config.max_length) # повторяем тоже для валидации\r\n",
        "\r\n",
        "    train_dataset_m = TensorDataset(input_ids_train_m, attention_masks_train_m, labels_train_m) # преобразуем в специальный тип данных\r\n",
        "    val_dataset_m = TensorDataset(input_ids_val_m, attention_masks_val_m, labels_val_m)\r\n",
        "\r\n",
        "    train_dataloader_m = DataLoader( # загружаем данные для обучения\r\n",
        "        train_dataset_m,\r\n",
        "        sampler=RandomSampler(train_dataset_m),\r\n",
        "        batch_size=config.batch_size\r\n",
        "    )\r\n",
        "\r\n",
        "    validation_dataloader_m = DataLoader( # делаем ещё раз для валидации\r\n",
        "        val_dataset_m,\r\n",
        "        sampler=SequentialSampler(val_dataset_m),\r\n",
        "        batch_size=config.batch_size\r\n",
        "    )\r\n",
        "\r\n",
        "    model_m = BertForSequenceClassification.from_pretrained(  # BertForSequenceClassification\r\n",
        "        \"bert-base-multilingual-cased\",  # Используем 12 слойный мультиязычный BERT\r\n",
        "        num_labels=2, # 2 метки для бинарной классификации\r\n",
        "\r\n",
        "        output_attentions=False,\r\n",
        "        output_hidden_states=False,\r\n",
        "    )\r\n",
        "\r\n",
        "    model_m.to(device) # объявляем, что модель будет работать на GPU\r\n",
        "\r\n",
        "    optimizer_m = AdamW(model_m.parameters(),\r\n",
        "                        lr=config.learning_rate,  # задаём learning rate\r\n",
        "                        eps=config.eps  # задаём adam epsilon\r\n",
        "                        )\r\n",
        "\r\n",
        "    epochs = config.epochs #задаём колличество эпох\r\n",
        "\r\n",
        "    total_steps_m = len(train_dataloader_m) * epochs\r\n",
        "\r\n",
        "    scheduler_m = get_linear_schedule_with_warmup(optimizer_m,\r\n",
        "                                                  num_warmup_steps=0,\r\n",
        "                                                  num_training_steps=total_steps_m)\r\n",
        "\r\n",
        "    seed_val = 796 # выбираем случайный сид\r\n",
        "\r\n",
        "    random.seed(seed_val)\r\n",
        "    np.random.seed(seed_val)\r\n",
        "    torch.manual_seed(seed_val)\r\n",
        "    torch.cuda.manual_seed_all(seed_val)\r\n",
        "\r\n",
        "    # Статистика по тренировке\r\n",
        "    training_stats = []\r\n",
        "\r\n",
        "    # Уитываем время тренировки\r\n",
        "    total_t0 = time.time()\r\n",
        "\r\n",
        "\r\n",
        "\r\n",
        "    for epoch_i in range(0, epochs):\r\n",
        "\r\n",
        "        print(\"\")\r\n",
        "        print('======== Эпоха {:} / {:} ========'.format(epoch_i + 1, epochs))\r\n",
        "        print('Тренировка...')\r\n",
        "\r\n",
        "        # Начальное время тренировки\r\n",
        "        t0 = time.time()\r\n",
        "\r\n",
        "\r\n",
        "        total_train_loss = 0\r\n",
        "\r\n",
        "        # Переведём модель в режим тренировки\r\n",
        "        model_m.train()\r\n",
        "\r\n",
        "\r\n",
        "        for step, batch in enumerate(train_dataloader_m):\r\n",
        "\r\n",
        "            # Будем обновлять данные каждые 40 шагов\r\n",
        "            if step % 40 == 0 and not step == 0:\r\n",
        "                # Ввычисляем время\r\n",
        "                elapsed = format_time(time.time() - t0)\r\n",
        "\r\n",
        "                # Печатаем прогресс.\r\n",
        "                print('  Батч {:>5,}  из  {:>5,}.    Прошло: {:}.'.format(step, len(train_dataloader_m), elapsed))\r\n",
        "\r\n",
        "\r\n",
        "            b_input_ids = batch[0].to(device)\r\n",
        "            b_input_mask = batch[1].to(device)\r\n",
        "            b_labels = batch[2].to(device)\r\n",
        "\r\n",
        "            #Обнуляем модель\r\n",
        "            model_m.zero_grad()\r\n",
        "\r\n",
        "            # Получаем вывод из модели\r\n",
        "            output = model_m(b_input_ids,\r\n",
        "                             token_type_ids=None,\r\n",
        "                             attention_mask=b_input_mask,\r\n",
        "                             labels=b_labels)\r\n",
        "\r\n",
        "            loss = output.loss\r\n",
        "            logits = output.logits\r\n",
        "            # Вычисляем loss для тренировки\r\n",
        "            total_train_loss += loss.item()\r\n",
        "\r\n",
        "\r\n",
        "            loss.backward()\r\n",
        "\r\n",
        "            # Вычисляем градиент\r\n",
        "            torch.nn.utils.clip_grad_norm_(model_m.parameters(), 1.0)\r\n",
        "\r\n",
        "\r\n",
        "            optimizer_m.step()\r\n",
        "\r\n",
        "            # Обновляем learning rate\r\n",
        "            scheduler_m.step()\r\n",
        "            wandb.log({\"batch loss\": float(loss.item())}) # Добавляем в wandb значения\r\n",
        "\r\n",
        "        # Вычисляем общий loss для тренировки\r\n",
        "        avg_train_loss = total_train_loss / len(train_dataloader_m)\r\n",
        "\r\n",
        "        # вычисляем время на эпоху\r\n",
        "        training_time = format_time(time.time() - t0)\r\n",
        "        wandb.log({\"loss\": float(avg_train_loss)})\r\n",
        "        print(\"\")\r\n",
        "        print(\"  Средняя потеря на тренировке: {0:.2f}\".format(avg_train_loss))\r\n",
        "        print(\"  Время тренировки эпохи: {:}\".format(training_time))\r\n",
        "\r\n",
        "\r\n",
        "\r\n",
        "        print(\"\")\r\n",
        "        print(\"Запуск валидации...\")\r\n",
        "\r\n",
        "        t0 = time.time()\r\n",
        "\r\n",
        "        # Сменяем режим модели\r\n",
        "        model_m.eval()\r\n",
        "\r\n",
        "\r\n",
        "        total_eval_accuracy = 0\r\n",
        "        total_eval_loss = 0\r\n",
        "        nb_eval_steps = 0\r\n",
        "\r\n",
        "\r\n",
        "        for batch in tqdm(validation_dataloader_m):\r\n",
        "\r\n",
        "            b_input_ids = batch[0].to(device)\r\n",
        "            b_input_mask = batch[1].to(device)\r\n",
        "            b_labels = batch[2].to(device)\r\n",
        "\r\n",
        "\r\n",
        "            with torch.no_grad():\r\n",
        "                # Получаем вывод модели для валидации\r\n",
        "                output = model_m(b_input_ids,\r\n",
        "                                 token_type_ids=None,\r\n",
        "                                 attention_mask=b_input_mask,\r\n",
        "                                 labels=b_labels)\r\n",
        "\r\n",
        "                loss = output.loss\r\n",
        "                logits = output.logits\r\n",
        "            # Вычисляем потерю для валидации\r\n",
        "            total_eval_loss += loss.item()\r\n",
        "\r\n",
        "\r\n",
        "            logits = logits.detach().cpu().numpy()\r\n",
        "            label_ids = b_labels.to('cpu').numpy()\r\n",
        "\r\n",
        "            # Вычисляем точность.\r\n",
        "            total_eval_accuracy += flat_accuracy(logits, label_ids)\r\n",
        "            wandb.log({\"batch accuracy\": float(total_eval_accuracy)})\r\n",
        "\r\n",
        "        # Вычисляем финальную точность\r\n",
        "        avg_val_accuracy = total_eval_accuracy / len(validation_dataloader_m)\r\n",
        "        print(\"  Точность: {0:.4f}\".format(avg_val_accuracy))\r\n",
        "        wandb.log({\"Accuracy\": float(avg_val_accuracy)})\r\n",
        "\r\n",
        "        avg_val_loss = total_eval_loss / len(validation_dataloader_m)\r\n",
        "\r\n",
        "        # Высчитываем время валидации\r\n",
        "        validation_time = format_time(time.time() - t0)\r\n",
        "        wandb.log({\"Validation_Loss\": float(avg_val_loss)})\r\n",
        "        print(\"  Потеря на валидации: {0:.2f}\".format(avg_val_loss))\r\n",
        "        print(\"  Время валидации: {:}\".format(validation_time))\r\n",
        "\r\n",
        "        training_stats.append(\r\n",
        "            {\r\n",
        "                'epoch': epoch_i + 1,\r\n",
        "                'Training Loss': avg_train_loss,\r\n",
        "                'Valid. Loss': avg_val_loss,\r\n",
        "                'Valid. Accur.': avg_val_accuracy,\r\n",
        "                'Training Time': training_time,\r\n",
        "                'Validation Time': validation_time\r\n",
        "            }\r\n",
        "        )\r\n",
        "\r\n",
        "    print(\"\")\r\n",
        "    print(\"Обучение завершено!\")\r\n",
        "\r\n",
        "    print(\"Общее время {:} (h:mm:ss)\".format(format_time(time.time() - total_t0)))"
      ],
      "execution_count": null,
      "outputs": []
    },
    {
      "cell_type": "code",
      "metadata": {
        "id": "koxvY8K0hl_G"
      },
      "source": [
        "wandb.agent(sweep_id, train)"
      ],
      "execution_count": null,
      "outputs": []
    },
    {
      "cell_type": "code",
      "metadata": {
        "id": "ftwSKy-3iQhG"
      },
      "source": [
        " "
      ],
      "execution_count": null,
      "outputs": []
    },
    {
      "cell_type": "code",
      "metadata": {
        "id": "gXeeYrTssS10"
      },
      "source": [
        ""
      ],
      "execution_count": null,
      "outputs": []
    }
  ]
}